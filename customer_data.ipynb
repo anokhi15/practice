{
 "cells": [
  {
   "cell_type": "markdown",
   "id": "a6e7caf5",
   "metadata": {},
   "source": [
    "5. You have a dataset named customer_data.csv that contains information about customers. The dataset has columns customer_id, age, gender, email, and purchases. Write a Python script to read the dataset, perform data cleaning by removing duplicates and handling missing values, and then calculate the average number of purchases for each gender.\n",
    "\n",
    "Dataset: https://drive.google.com/file/d/17YBlvt8l0S0WQWEhpW7DsuXATe3plgFB/view?usp=sharing\n",
    "\n",
    "Submission: Share the Notebook file(.ipynb or .py) or pdf along with code"
   ]
  },
  {
   "cell_type": "code",
   "execution_count": 1,
   "id": "6df4c4d9",
   "metadata": {},
   "outputs": [
    {
     "name": "stdout",
     "output_type": "stream",
     "text": [
      "gender\n",
      "F     4.20\n",
      "M    11.25\n",
      "Name: purchases, dtype: float64\n"
     ]
    }
   ],
   "source": [
    "import pandas as pd\n",
    "\n",
    "# Load the dataset\n",
    "data = pd.read_csv('customer_data.csv')\n",
    "\n",
    "# Data cleaning: Remove duplicates\n",
    "data.drop_duplicates(inplace=True)\n",
    "\n",
    "# Data cleaning: Handle missing values\n",
    "# Assuming that missing values in 'age', 'gender', and 'purchases' columns are handled\n",
    "# In this example, missing 'age' values are filled with the mean age, 'gender' with 'Unknown', and 'purchases' with 0\n",
    "data['age'].fillna(data['age'].mean(), inplace=True)\n",
    "data['gender'].fillna('Unknown', inplace=True)\n",
    "data['purchases'].fillna(0, inplace=True)\n",
    "\n",
    "# Calculate the average number of purchases for each gender\n",
    "average_purchases_by_gender = data.groupby('gender')['purchases'].mean()\n",
    "\n",
    "# Display the result\n",
    "print(average_purchases_by_gender)"
   ]
  },
  {
   "cell_type": "code",
   "execution_count": null,
   "id": "ac6f4a45",
   "metadata": {},
   "outputs": [],
   "source": []
  }
 ],
 "metadata": {
  "kernelspec": {
   "display_name": "Python 3 (ipykernel)",
   "language": "python",
   "name": "python3"
  },
  "language_info": {
   "codemirror_mode": {
    "name": "ipython",
    "version": 3
   },
   "file_extension": ".py",
   "mimetype": "text/x-python",
   "name": "python",
   "nbconvert_exporter": "python",
   "pygments_lexer": "ipython3",
   "version": "3.10.9"
  }
 },
 "nbformat": 4,
 "nbformat_minor": 5
}
